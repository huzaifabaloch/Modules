{
 "cells": [
  {
   "cell_type": "markdown",
   "metadata": {},
   "source": [
    "# IterTools Module\n",
    "    #  Iterator Functions for Efficient Looping"
   ]
  },
  {
   "cell_type": "code",
   "execution_count": 2,
   "metadata": {},
   "outputs": [],
   "source": [
    "import itertools"
   ]
  },
  {
   "cell_type": "markdown",
   "metadata": {},
   "source": [
    "# COUNT FUNCTION\n",
    "    # it returns an iterator that counts.\n",
    "    # count(start, step)"
   ]
  },
  {
   "cell_type": "code",
   "execution_count": 4,
   "metadata": {},
   "outputs": [],
   "source": [
    "# it will returns infinity values.\n",
    "counter = itertools.count()\n",
    "for num in counter:\n",
    "    print(num)"
   ]
  },
  {
   "cell_type": "code",
   "execution_count": 5,
   "metadata": {},
   "outputs": [
    {
     "name": "stdout",
     "output_type": "stream",
     "text": [
      "0\n",
      "1\n",
      "2\n"
     ]
    }
   ],
   "source": [
    "# returns the one next item at a time.\n",
    "print(next(counter))\n",
    "print(next(counter))\n",
    "print(next(counter))"
   ]
  },
  {
   "cell_type": "code",
   "execution_count": 6,
   "metadata": {},
   "outputs": [
    {
     "name": "stdout",
     "output_type": "stream",
     "text": [
      "[(0, 100), (1, 200), (2, 300), (3, 400)]\n"
     ]
    }
   ],
   "source": [
    "# HOW IT IS USEFUL?\n",
    "\n",
    "# it is very common to have list of values with index assigned to it.\n",
    "# lets say we want to list data to be paired up with index values.\n",
    "# for example -> our data took place over a daily basis and we want to \n",
    "# graph it. so we wanna paired of by saying 100 is associated with day 0,\n",
    "# 200 -> 1 and so on. Now if we dont know how much data there will be. Then we\n",
    "# can use count function to provide value for any amount of data.\n",
    "\n",
    "data = [100, 200, 300, 400]\n",
    "\n",
    "daily_data = list(zip(itertools.count(), data))\n",
    "\n",
    "print(daily_data)"
   ]
  },
  {
   "cell_type": "markdown",
   "metadata": {},
   "source": [
    "# ZIP LONGEST\n",
    "            # Make an iterator that aggregates elements from each of the iterables. If the iterables are of uneven length,           missing values are filled-in with fillvalue. Iteration continues until the longest iterable is exhausted.\n",
    "            \n",
    "            # it is also an iterable function. \n",
    "            # it does not end until an longest iterable (list|tuple|dict) is exhausted.\n",
    "            # if there is no value in the shortest iterable to match. It fill up with None value.\n",
    "            \n",
    "            # It pair the iterables.\n",
    "            \n",
    "            # zip_longest(iterables,....)\n",
    "           "
   ]
  },
  {
   "cell_type": "code",
   "execution_count": 8,
   "metadata": {},
   "outputs": [
    {
     "name": "stdout",
     "output_type": "stream",
     "text": [
      "[(0, 'TKINTER'), (1, 'TIME'), (2, 'SYS'), (3, 'OS')]\n",
      "\n",
      "\n",
      "[(0, 'TKINTER'), (1, 'TIME'), (2, 'SYS'), (3, 'OS'), (4, None), (5, None), (6, None), (7, None), (8, None), (9, None)]\n"
     ]
    }
   ],
   "source": [
    "data = ['TKINTER', 'TIME', 'SYS', 'OS']\n",
    "\n",
    "# NORMAL ZIP FUNCTION.\n",
    "mod = list(zip(range(10), data))\n",
    "print(mod)\n",
    "print('\\n')\n",
    "\n",
    "# ITERABLE ZIP_LONGEST FUNCTION.\n",
    "mod = list(itertools.zip_longest(range(10), data))\n",
    "print(mod)"
   ]
  },
  {
   "cell_type": "markdown",
   "metadata": {},
   "source": [
    "# CYCLE \n",
    "    # it also returns an iterator that goes on forever.\n",
    "    # it takes an iterable as an argument and cycle through those values over and over again.\n",
    "    \n"
   ]
  },
  {
   "cell_type": "code",
   "execution_count": 12,
   "metadata": {},
   "outputs": [
    {
     "name": "stdout",
     "output_type": "stream",
     "text": [
      "1\n",
      "2\n",
      "3\n",
      "1\n",
      "2\n",
      "3\n",
      "1\n"
     ]
    }
   ],
   "source": [
    "counter = itertools.cycle([1, 2, 3])\n",
    "\n",
    "print(next(counter))\n",
    "print(next(counter))\n",
    "print(next(counter))\n",
    "print(next(counter))\n",
    "print(next(counter))\n",
    "print(next(counter))\n",
    "print(next(counter))"
   ]
  },
  {
   "cell_type": "code",
   "execution_count": 13,
   "metadata": {},
   "outputs": [
    {
     "name": "stdout",
     "output_type": "stream",
     "text": [
      "On\n",
      "Off\n",
      "On\n",
      "Off\n",
      "On\n"
     ]
    }
   ],
   "source": [
    "counter = itertools.cycle(('On', 'Off'))\n",
    "\n",
    "print(next(counter))\n",
    "print(next(counter))\n",
    "print(next(counter))\n",
    "print(next(counter))\n",
    "print(next(counter))\n",
    "           \n",
    "      \n"
   ]
  },
  {
   "cell_type": "markdown",
   "metadata": {},
   "source": [
    "# REPEAT"
   ]
  }
 ],
 "metadata": {
  "kernelspec": {
   "display_name": "Python 3",
   "language": "python",
   "name": "python3"
  },
  "language_info": {
   "codemirror_mode": {
    "name": "ipython",
    "version": 3
   },
   "file_extension": ".py",
   "mimetype": "text/x-python",
   "name": "python",
   "nbconvert_exporter": "python",
   "pygments_lexer": "ipython3",
   "version": "3.7.3"
  }
 },
 "nbformat": 4,
 "nbformat_minor": 2
}
